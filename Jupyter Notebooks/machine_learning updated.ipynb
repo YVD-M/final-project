{
 "cells": [
  {
   "cell_type": "code",
   "execution_count": 1,
   "metadata": {},
   "outputs": [],
   "source": [
    "# Data manipulation\n",
    "# ==============================================================================\n",
    "import numpy as np\n",
    "import pandas as pd\n",
    "from datetime import datetime\n",
    "\n",
    "# Plots\n",
    "# ==============================================================================\n",
    "import matplotlib.pyplot as plt\n",
    "plt.style.use('fivethirtyeight')\n",
    "plt.rcParams['lines.linewidth'] = 1.5\n",
    "%matplotlib inline\n",
    "\n",
    "# Modeling and Forecasting\n",
    "# ==============================================================================\n",
    "from sklearn.linear_model import LinearRegression\n",
    "from sklearn.linear_model import Lasso\n",
    "from sklearn.ensemble import RandomForestRegressor\n",
    "from sklearn.metrics import mean_squared_error\n",
    "from sklearn.preprocessing import StandardScaler\n",
    "from sklearn.pipeline import make_pipeline\n",
    "from sklearn.model_selection import train_test_split\n",
    "\n",
    "from skforecast.ForecasterAutoreg import ForecasterAutoreg\n",
    "from skforecast.ForecasterAutoregCustom import ForecasterAutoregCustom\n",
    "from skforecast.ForecasterAutoregMultiOutput import ForecasterAutoregMultiOutput\n",
    "from skforecast.model_selection import grid_search_forecaster\n",
    "from skforecast.model_selection import backtesting_forecaster\n",
    "\n",
    "from joblib import dump, load\n",
    "\n",
    "# Warnings configuration\n",
    "# ==============================================================================\n",
    "import warnings\n",
    "# warnings.filterwarnings('ignore')"
   ]
  },
  {
   "cell_type": "code",
   "execution_count": 2,
   "metadata": {},
   "outputs": [
    {
     "data": {
      "text/html": [
       "<div>\n",
       "<style scoped>\n",
       "    .dataframe tbody tr th:only-of-type {\n",
       "        vertical-align: middle;\n",
       "    }\n",
       "\n",
       "    .dataframe tbody tr th {\n",
       "        vertical-align: top;\n",
       "    }\n",
       "\n",
       "    .dataframe thead th {\n",
       "        text-align: right;\n",
       "    }\n",
       "</style>\n",
       "<table border=\"1\" class=\"dataframe\">\n",
       "  <thead>\n",
       "    <tr style=\"text-align: right;\">\n",
       "      <th></th>\n",
       "      <th>Date</th>\n",
       "      <th>Price</th>\n",
       "    </tr>\n",
       "  </thead>\n",
       "  <tbody>\n",
       "    <tr>\n",
       "      <th>0</th>\n",
       "      <td>2000-04-01</td>\n",
       "      <td>23.95</td>\n",
       "    </tr>\n",
       "    <tr>\n",
       "      <th>1</th>\n",
       "      <td>2000-05-01</td>\n",
       "      <td>23.72</td>\n",
       "    </tr>\n",
       "    <tr>\n",
       "      <th>2</th>\n",
       "      <td>2000-06-01</td>\n",
       "      <td>23.55</td>\n",
       "    </tr>\n",
       "    <tr>\n",
       "      <th>3</th>\n",
       "      <td>2000-07-01</td>\n",
       "      <td>23.35</td>\n",
       "    </tr>\n",
       "    <tr>\n",
       "      <th>4</th>\n",
       "      <td>2000-10-01</td>\n",
       "      <td>22.77</td>\n",
       "    </tr>\n",
       "    <tr>\n",
       "      <th>...</th>\n",
       "      <td>...</td>\n",
       "      <td>...</td>\n",
       "    </tr>\n",
       "    <tr>\n",
       "      <th>5333</th>\n",
       "      <td>2020-12-24</td>\n",
       "      <td>50.88</td>\n",
       "    </tr>\n",
       "    <tr>\n",
       "      <th>5334</th>\n",
       "      <td>2020-12-28</td>\n",
       "      <td>50.88</td>\n",
       "    </tr>\n",
       "    <tr>\n",
       "      <th>5335</th>\n",
       "      <td>2020-12-29</td>\n",
       "      <td>50.44</td>\n",
       "    </tr>\n",
       "    <tr>\n",
       "      <th>5336</th>\n",
       "      <td>2020-12-30</td>\n",
       "      <td>50.74</td>\n",
       "    </tr>\n",
       "    <tr>\n",
       "      <th>5337</th>\n",
       "      <td>2020-12-31</td>\n",
       "      <td>51.22</td>\n",
       "    </tr>\n",
       "  </tbody>\n",
       "</table>\n",
       "<p>5338 rows × 2 columns</p>\n",
       "</div>"
      ],
      "text/plain": [
       "           Date  Price\n",
       "0    2000-04-01  23.95\n",
       "1    2000-05-01  23.72\n",
       "2    2000-06-01  23.55\n",
       "3    2000-07-01  23.35\n",
       "4    2000-10-01  22.77\n",
       "...         ...    ...\n",
       "5333 2020-12-24  50.88\n",
       "5334 2020-12-28  50.88\n",
       "5335 2020-12-29  50.44\n",
       "5336 2020-12-30  50.74\n",
       "5337 2020-12-31  51.22\n",
       "\n",
       "[5338 rows x 2 columns]"
      ]
     },
     "execution_count": 2,
     "metadata": {},
     "output_type": "execute_result"
    }
   ],
   "source": [
    "data = pd.read_csv(\"../Resources/CrudeOilPrices_2000-2020_Updated2.csv\")\n",
    "#data = df.rename({\"Cushing, OK WTI Spot Price FOB (Dollars per Barrel)\": \"Price\"}, axis=1)\n",
    "data['Date'] = pd.to_datetime(data['Date'])\n",
    "#data[\"Date\"].dtype\n",
    "data"
   ]
  },
  {
   "cell_type": "code",
   "execution_count": 3,
   "metadata": {},
   "outputs": [
    {
     "name": "stdout",
     "output_type": "stream",
     "text": [
      "Number of rows with missing values: 0.0\n"
     ]
    }
   ],
   "source": [
    "print(f'Number of rows with missing values: {data.isnull().any(axis=1).mean()}')"
   ]
  },
  {
   "cell_type": "code",
   "execution_count": 4,
   "metadata": {},
   "outputs": [],
   "source": [
    "#data['MA3'] = data['Price'].shift(1).rolling(window=3).mean()\n",
    "#data['MA9']= data['Price'].shift(1).rolling(window=9).mean()\n",
    "#data = data.set_index('Date')\n",
    "#data"
   ]
  },
  {
   "cell_type": "code",
   "execution_count": 5,
   "metadata": {},
   "outputs": [
    {
     "name": "stderr",
     "output_type": "stream",
     "text": [
      "numexpr.utils INFO  NumExpr defaulting to 8 threads.\n"
     ]
    },
    {
     "data": {
      "text/plain": [
       "array([[23.95],\n",
       "       [23.72],\n",
       "       [23.55],\n",
       "       ...,\n",
       "       [50.44],\n",
       "       [50.74],\n",
       "       [51.22]])"
      ]
     },
     "execution_count": 5,
     "metadata": {},
     "output_type": "execute_result"
    }
   ],
   "source": [
    "# Dropping the NaN values\n",
    "data = data.dropna()\n",
    "\n",
    "# Initialising X and assigning the feature variable\n",
    "X = data['Price'].values.reshape(-1, 1)\n",
    "\n",
    "# Getting the head of the data\n",
    "X"
   ]
  },
  {
   "cell_type": "code",
   "execution_count": 6,
   "metadata": {},
   "outputs": [
    {
     "data": {
      "text/plain": [
       "array([['2000-04-01T00:00:00.000000000'],\n",
       "       ['2000-05-01T00:00:00.000000000'],\n",
       "       ['2000-06-01T00:00:00.000000000'],\n",
       "       ...,\n",
       "       ['2020-12-29T00:00:00.000000000'],\n",
       "       ['2020-12-30T00:00:00.000000000'],\n",
       "       ['2020-12-31T00:00:00.000000000']], dtype='datetime64[ns]')"
      ]
     },
     "execution_count": 6,
     "metadata": {},
     "output_type": "execute_result"
    }
   ],
   "source": [
    "# Setting-up the dependent variable\n",
    "y = data['Date'].values.reshape(-1, 1)\n",
    "\n",
    "# Getting the head of the data\n",
    "y"
   ]
  },
  {
   "cell_type": "code",
   "execution_count": 7,
   "metadata": {},
   "outputs": [
    {
     "data": {
      "text/plain": [
       "dtype('float64')"
      ]
     },
     "execution_count": 7,
     "metadata": {},
     "output_type": "execute_result"
    }
   ],
   "source": [
    "data['Price'].dtype"
   ]
  },
  {
   "cell_type": "code",
   "execution_count": 8,
   "metadata": {},
   "outputs": [
    {
     "name": "stdout",
     "output_type": "stream",
     "text": [
      "[[23.95]\n",
      " [23.72]\n",
      " [23.55]\n",
      " ...\n",
      " [50.28]\n",
      " [49.8 ]\n",
      " [49.08]]\n"
     ]
    }
   ],
   "source": [
    "# Setting the training set to 80% of the data\n",
    "training = 0.8\n",
    "t = int(training*len(data))\n",
    "\n",
    "# Training dataset\n",
    "X_train = X[:t]\n",
    "y_train = y[:t]\n",
    "\n",
    "# Testing dataset\n",
    "X_test = X[t:]\n",
    "y_test = y[t:]\n",
    "print(X_train)"
   ]
  },
  {
   "cell_type": "code",
   "execution_count": 9,
   "metadata": {},
   "outputs": [],
   "source": [
    "# Generate the coefficient and constant for the regression\n",
    "model = LinearRegression().fit(X_train,y_train)\n",
    "predicted_price = model.predict(X_test)"
   ]
  },
  {
   "cell_type": "code",
   "execution_count": 10,
   "metadata": {},
   "outputs": [],
   "source": [
    "import pickle\n",
    "pickle.dump(model, open('model.pkl','wb'))\n",
    "\n",
    "model = pickle.load(open('model.pkl','rb'))"
   ]
  },
  {
   "cell_type": "code",
   "execution_count": 44,
   "metadata": {},
   "outputs": [
    {
     "ename": "AttributeError",
     "evalue": "'numpy.ndarray' object has no attribute 'index'",
     "output_type": "error",
     "traceback": [
      "\u001b[0;31m---------------------------------------------------------------------------\u001b[0m",
      "\u001b[0;31mAttributeError\u001b[0m                            Traceback (most recent call last)",
      "\u001b[0;32m<ipython-input-44-d057cd6d2c0f>\u001b[0m in \u001b[0;36m<module>\u001b[0;34m\u001b[0m\n\u001b[1;32m      1\u001b[0m \u001b[0mpredicted_price\u001b[0m \u001b[0;34m=\u001b[0m \u001b[0mmodel\u001b[0m\u001b[0;34m.\u001b[0m\u001b[0mpredict\u001b[0m\u001b[0;34m(\u001b[0m\u001b[0mX_test\u001b[0m\u001b[0;34m)\u001b[0m\u001b[0;34m\u001b[0m\u001b[0;34m\u001b[0m\u001b[0m\n\u001b[0;32m----> 2\u001b[0;31m \u001b[0mpredicted_price\u001b[0m \u001b[0;34m=\u001b[0m \u001b[0mpd\u001b[0m\u001b[0;34m.\u001b[0m\u001b[0mDataFrame\u001b[0m\u001b[0;34m(\u001b[0m\u001b[0mpredicted_price\u001b[0m\u001b[0;34m,\u001b[0m\u001b[0mindex\u001b[0m\u001b[0;34m=\u001b[0m\u001b[0my_test\u001b[0m\u001b[0;34m.\u001b[0m\u001b[0mindex\u001b[0m\u001b[0;34m,\u001b[0m\u001b[0mcolumns\u001b[0m \u001b[0;34m=\u001b[0m \u001b[0;34m[\u001b[0m\u001b[0;34m'Price'\u001b[0m\u001b[0;34m]\u001b[0m\u001b[0;34m)\u001b[0m\u001b[0;34m\u001b[0m\u001b[0;34m\u001b[0m\u001b[0m\n\u001b[0m\u001b[1;32m      3\u001b[0m \u001b[0mpredicted_price\u001b[0m\u001b[0;34m.\u001b[0m\u001b[0mplot\u001b[0m\u001b[0;34m(\u001b[0m\u001b[0mfigsize\u001b[0m\u001b[0;34m=\u001b[0m\u001b[0;34m(\u001b[0m\u001b[0;36m10\u001b[0m\u001b[0;34m,\u001b[0m\u001b[0;36m5\u001b[0m\u001b[0;34m)\u001b[0m\u001b[0;34m)\u001b[0m\u001b[0;34m\u001b[0m\u001b[0;34m\u001b[0m\u001b[0m\n\u001b[1;32m      4\u001b[0m \u001b[0my_test\u001b[0m\u001b[0;34m.\u001b[0m\u001b[0mplot\u001b[0m\u001b[0;34m(\u001b[0m\u001b[0;34m)\u001b[0m\u001b[0;34m\u001b[0m\u001b[0;34m\u001b[0m\u001b[0m\n\u001b[1;32m      5\u001b[0m \u001b[0mplt\u001b[0m\u001b[0;34m.\u001b[0m\u001b[0mlegend\u001b[0m\u001b[0;34m(\u001b[0m\u001b[0;34m[\u001b[0m\u001b[0;34m'Predicted Price'\u001b[0m\u001b[0;34m,\u001b[0m\u001b[0;34m'Actual Price'\u001b[0m\u001b[0;34m]\u001b[0m\u001b[0;34m)\u001b[0m\u001b[0;34m\u001b[0m\u001b[0;34m\u001b[0m\u001b[0m\n",
      "\u001b[0;31mAttributeError\u001b[0m: 'numpy.ndarray' object has no attribute 'index'"
     ]
    }
   ],
   "source": [
    "predicted_price = model.predict(X_test)\n",
    "predicted_price = pd.DataFrame(predicted_price,index=y_test.index,columns = ['Price'])\n",
    "predicted_price.plot(figsize=(10,5))\n",
    "y_test.plot()\n",
    "plt.legend(['Predicted Price','Actual Price'])\n",
    "plt.ylabel(\"Crude Oil Prices (Dollars per Barrel\")\n",
    "plt.show()"
   ]
  },
  {
   "cell_type": "code",
   "execution_count": 11,
   "metadata": {},
   "outputs": [
    {
     "name": "stdout",
     "output_type": "stream",
     "text": [
      "MSE: 2.421270853846471, R2: 0.9863527177790016\n"
     ]
    }
   ],
   "source": [
    "# Used X_test, y_test, and model.predict(X_test) to calculate MSE and R2\n",
    "\n",
    "MSE = mean_squared_error(y_test, predicted_price)\n",
    "r2 = model.score(X_test, y_test)\n",
    "\n",
    "print(f\"MSE: {MSE}, R2: {r2}\")"
   ]
  },
  {
   "cell_type": "code",
   "execution_count": 12,
   "metadata": {},
   "outputs": [],
   "source": [
    "#Trialling different codes from below"
   ]
  },
  {
   "cell_type": "code",
   "execution_count": 54,
   "metadata": {},
   "outputs": [
    {
     "name": "stdout",
     "output_type": "stream",
     "text": [
      "(243, 1) (243, 1)\n"
     ]
    }
   ],
   "source": [
    "X = data['MA3'].values.reshape(-1, 1)\n",
    "y = data['Price'].values.reshape(-1, 1)\n",
    "print(X.shape, y.shape)"
   ]
  },
  {
   "cell_type": "code",
   "execution_count": 51,
   "metadata": {},
   "outputs": [
    {
     "data": {
      "text/plain": [
       "203    51.08\n",
       "204    52.36\n",
       "205    53.90\n",
       "206    53.82\n",
       "207    50.25\n",
       "208    48.83\n",
       "209    48.32\n",
       "210    45.11\n",
       "211    49.19\n",
       "212    47.32\n",
       "213    50.59\n",
       "214    54.32\n",
       "215    58.35\n",
       "216    60.37\n",
       "217    65.92\n",
       "218    60.98\n",
       "219    63.41\n",
       "220    67.28\n",
       "221    65.81\n",
       "222    73.89\n",
       "223    68.80\n",
       "224    69.82\n",
       "225    75.37\n",
       "226    63.67\n",
       "227    52.98\n",
       "228    46.31\n",
       "229    55.29\n",
       "230    55.76\n",
       "231    61.59\n",
       "232    63.55\n",
       "233    53.25\n",
       "234    58.91\n",
       "235    53.64\n",
       "236    53.91\n",
       "237    53.60\n",
       "238    56.04\n",
       "239    56.15\n",
       "240    61.17\n",
       "241    50.06\n",
       "242    52.52\n",
       "243    14.97\n",
       "244    18.49\n",
       "245    36.74\n",
       "246    42.18\n",
       "247    43.76\n",
       "248    45.72\n",
       "249    39.75\n",
       "250    37.78\n",
       "251    47.03\n",
       "Name: Price, dtype: float64"
      ]
     },
     "execution_count": 51,
     "metadata": {},
     "output_type": "execute_result"
    }
   ],
   "source": [
    "# Training dataset\n",
    "X_train\n",
    "y_train\n",
    "\n",
    "# Testing dataset\n",
    "X_test\n",
    "y_test"
   ]
  },
  {
   "cell_type": "code",
   "execution_count": 55,
   "metadata": {},
   "outputs": [
    {
     "ename": "ValueError",
     "evalue": "Expected 2D array, got 1D array instead:\narray=[ 32.05  33.14  27.29  29.88  27.78  26.65  28.37  27.88  26.02  26.83\n  26.94  23.12  20.47  20.27  21.13  20.4   22.37  26.82  26.58  25.02\n  26.79  26.51  27.76  30.71  27.04  27.27  31.97  32.84  36.1   29.48\n  26.05  30.72  30.41  32.23  29.57  29.43  28.81  29.89  33.71  34.02\n  36.85  34.47  38.26  42.33  38.56  43.83  43.89  50.16  50.1   45.56\n  42.16  43.96  47.1   51.67  57.26  50.94  54.4   59.11  61.51  69.5\n  65.36  59.85  58.46  63.11  66.61  62.01  66.07  73.75  70.11  75.2\n  74.93  69.24  60.96  58.64  63.43  60.77  57.35  61.97  66.03  64.43\n  65.09  71.41  76.49  75.07  80.31  93.53  89.29  99.64  89.03 102.42\n 100.92 112.6  127.75 141.06 125.03 109.63  98.23  63.93  49.34  46.17\n  41.35  40.07  48.46  52.18  68.59  69.32  71.59  68.11  70.67  78.08\n  78.39  81.52  74.41  78.71  84.53  86.19  72.7   72.95  81.25  73.97\n  81.57  82.94  86.75  91.59  89.54  99.63 107.55 113.03 100.3   94.81\n  94.98  88.93  77.34  92.19 100.2  102.96  97.63 108.76 105.25 106.17\n  83.17  83.72  88.99  95.34  92.44  87.05  88.69  93.14  97.46  90.71\n  97.1   90.74  93.41  97.94 107.93 108.67 102.09  94.56  93.61  95.14\n  96.44 105.34  99.69  99.69 103.07 106.06  97.86  92.92  90.74  78.77\n  68.98  52.72  49.25  49.59  50.12  59.1   60.24  56.94  45.25  45.38\n  44.75  46.12  40.58  36.81  31.62  34.39  35.36  44.75  49.07  49.02\n  40.05  43.17  48.8   46.66].\nReshape your data either using array.reshape(-1, 1) if your data has a single feature or array.reshape(1, -1) if it contains a single sample.",
     "output_type": "error",
     "traceback": [
      "\u001b[0;31m---------------------------------------------------------------------------\u001b[0m",
      "\u001b[0;31mValueError\u001b[0m                                Traceback (most recent call last)",
      "\u001b[0;32m<ipython-input-55-75c045970dfe>\u001b[0m in \u001b[0;36m<module>\u001b[0;34m\u001b[0m\n\u001b[1;32m      4\u001b[0m \u001b[0;34m\u001b[0m\u001b[0m\n\u001b[1;32m      5\u001b[0m \u001b[0mX_scaler\u001b[0m \u001b[0;34m=\u001b[0m \u001b[0mStandardScaler\u001b[0m\u001b[0;34m(\u001b[0m\u001b[0;34m)\u001b[0m\u001b[0;34m.\u001b[0m\u001b[0mfit\u001b[0m\u001b[0;34m(\u001b[0m\u001b[0mX_train\u001b[0m\u001b[0;34m)\u001b[0m\u001b[0;34m\u001b[0m\u001b[0;34m\u001b[0m\u001b[0m\n\u001b[0;32m----> 6\u001b[0;31m \u001b[0my_scaler\u001b[0m \u001b[0;34m=\u001b[0m \u001b[0mStandardScaler\u001b[0m\u001b[0;34m(\u001b[0m\u001b[0;34m)\u001b[0m\u001b[0;34m.\u001b[0m\u001b[0mfit\u001b[0m\u001b[0;34m(\u001b[0m\u001b[0my_train\u001b[0m\u001b[0;34m)\u001b[0m\u001b[0;34m\u001b[0m\u001b[0;34m\u001b[0m\u001b[0m\n\u001b[0m",
      "\u001b[0;32m~/opt/anaconda3/lib/python3.8/site-packages/sklearn/preprocessing/_data.py\u001b[0m in \u001b[0;36mfit\u001b[0;34m(self, X, y, sample_weight)\u001b[0m\n\u001b[1;32m    804\u001b[0m         \u001b[0;31m# Reset internal state before fitting\u001b[0m\u001b[0;34m\u001b[0m\u001b[0;34m\u001b[0m\u001b[0;34m\u001b[0m\u001b[0m\n\u001b[1;32m    805\u001b[0m         \u001b[0mself\u001b[0m\u001b[0;34m.\u001b[0m\u001b[0m_reset\u001b[0m\u001b[0;34m(\u001b[0m\u001b[0;34m)\u001b[0m\u001b[0;34m\u001b[0m\u001b[0;34m\u001b[0m\u001b[0m\n\u001b[0;32m--> 806\u001b[0;31m         \u001b[0;32mreturn\u001b[0m \u001b[0mself\u001b[0m\u001b[0;34m.\u001b[0m\u001b[0mpartial_fit\u001b[0m\u001b[0;34m(\u001b[0m\u001b[0mX\u001b[0m\u001b[0;34m,\u001b[0m \u001b[0my\u001b[0m\u001b[0;34m,\u001b[0m \u001b[0msample_weight\u001b[0m\u001b[0;34m)\u001b[0m\u001b[0;34m\u001b[0m\u001b[0;34m\u001b[0m\u001b[0m\n\u001b[0m\u001b[1;32m    807\u001b[0m \u001b[0;34m\u001b[0m\u001b[0m\n\u001b[1;32m    808\u001b[0m     \u001b[0;32mdef\u001b[0m \u001b[0mpartial_fit\u001b[0m\u001b[0;34m(\u001b[0m\u001b[0mself\u001b[0m\u001b[0;34m,\u001b[0m \u001b[0mX\u001b[0m\u001b[0;34m,\u001b[0m \u001b[0my\u001b[0m\u001b[0;34m=\u001b[0m\u001b[0;32mNone\u001b[0m\u001b[0;34m,\u001b[0m \u001b[0msample_weight\u001b[0m\u001b[0;34m=\u001b[0m\u001b[0;32mNone\u001b[0m\u001b[0;34m)\u001b[0m\u001b[0;34m:\u001b[0m\u001b[0;34m\u001b[0m\u001b[0;34m\u001b[0m\u001b[0m\n",
      "\u001b[0;32m~/opt/anaconda3/lib/python3.8/site-packages/sklearn/preprocessing/_data.py\u001b[0m in \u001b[0;36mpartial_fit\u001b[0;34m(self, X, y, sample_weight)\u001b[0m\n\u001b[1;32m    839\u001b[0m         \"\"\"\n\u001b[1;32m    840\u001b[0m         \u001b[0mfirst_call\u001b[0m \u001b[0;34m=\u001b[0m \u001b[0;32mnot\u001b[0m \u001b[0mhasattr\u001b[0m\u001b[0;34m(\u001b[0m\u001b[0mself\u001b[0m\u001b[0;34m,\u001b[0m \u001b[0;34m\"n_samples_seen_\"\u001b[0m\u001b[0;34m)\u001b[0m\u001b[0;34m\u001b[0m\u001b[0;34m\u001b[0m\u001b[0m\n\u001b[0;32m--> 841\u001b[0;31m         X = self._validate_data(\n\u001b[0m\u001b[1;32m    842\u001b[0m             \u001b[0mX\u001b[0m\u001b[0;34m,\u001b[0m\u001b[0;34m\u001b[0m\u001b[0;34m\u001b[0m\u001b[0m\n\u001b[1;32m    843\u001b[0m             \u001b[0maccept_sparse\u001b[0m\u001b[0;34m=\u001b[0m\u001b[0;34m(\u001b[0m\u001b[0;34m\"csr\"\u001b[0m\u001b[0;34m,\u001b[0m \u001b[0;34m\"csc\"\u001b[0m\u001b[0;34m)\u001b[0m\u001b[0;34m,\u001b[0m\u001b[0;34m\u001b[0m\u001b[0;34m\u001b[0m\u001b[0m\n",
      "\u001b[0;32m~/opt/anaconda3/lib/python3.8/site-packages/sklearn/base.py\u001b[0m in \u001b[0;36m_validate_data\u001b[0;34m(self, X, y, reset, validate_separately, **check_params)\u001b[0m\n\u001b[1;32m    564\u001b[0m             \u001b[0;32mraise\u001b[0m \u001b[0mValueError\u001b[0m\u001b[0;34m(\u001b[0m\u001b[0;34m\"Validation should be done on X, y or both.\"\u001b[0m\u001b[0;34m)\u001b[0m\u001b[0;34m\u001b[0m\u001b[0;34m\u001b[0m\u001b[0m\n\u001b[1;32m    565\u001b[0m         \u001b[0;32melif\u001b[0m \u001b[0;32mnot\u001b[0m \u001b[0mno_val_X\u001b[0m \u001b[0;32mand\u001b[0m \u001b[0mno_val_y\u001b[0m\u001b[0;34m:\u001b[0m\u001b[0;34m\u001b[0m\u001b[0;34m\u001b[0m\u001b[0m\n\u001b[0;32m--> 566\u001b[0;31m             \u001b[0mX\u001b[0m \u001b[0;34m=\u001b[0m \u001b[0mcheck_array\u001b[0m\u001b[0;34m(\u001b[0m\u001b[0mX\u001b[0m\u001b[0;34m,\u001b[0m \u001b[0;34m**\u001b[0m\u001b[0mcheck_params\u001b[0m\u001b[0;34m)\u001b[0m\u001b[0;34m\u001b[0m\u001b[0;34m\u001b[0m\u001b[0m\n\u001b[0m\u001b[1;32m    567\u001b[0m             \u001b[0mout\u001b[0m \u001b[0;34m=\u001b[0m \u001b[0mX\u001b[0m\u001b[0;34m\u001b[0m\u001b[0;34m\u001b[0m\u001b[0m\n\u001b[1;32m    568\u001b[0m         \u001b[0;32melif\u001b[0m \u001b[0mno_val_X\u001b[0m \u001b[0;32mand\u001b[0m \u001b[0;32mnot\u001b[0m \u001b[0mno_val_y\u001b[0m\u001b[0;34m:\u001b[0m\u001b[0;34m\u001b[0m\u001b[0;34m\u001b[0m\u001b[0m\n",
      "\u001b[0;32m~/opt/anaconda3/lib/python3.8/site-packages/sklearn/utils/validation.py\u001b[0m in \u001b[0;36mcheck_array\u001b[0;34m(array, accept_sparse, accept_large_sparse, dtype, order, copy, force_all_finite, ensure_2d, allow_nd, ensure_min_samples, ensure_min_features, estimator)\u001b[0m\n\u001b[1;32m    767\u001b[0m             \u001b[0;31m# If input is 1D raise error\u001b[0m\u001b[0;34m\u001b[0m\u001b[0;34m\u001b[0m\u001b[0;34m\u001b[0m\u001b[0m\n\u001b[1;32m    768\u001b[0m             \u001b[0;32mif\u001b[0m \u001b[0marray\u001b[0m\u001b[0;34m.\u001b[0m\u001b[0mndim\u001b[0m \u001b[0;34m==\u001b[0m \u001b[0;36m1\u001b[0m\u001b[0;34m:\u001b[0m\u001b[0;34m\u001b[0m\u001b[0;34m\u001b[0m\u001b[0m\n\u001b[0;32m--> 769\u001b[0;31m                 raise ValueError(\n\u001b[0m\u001b[1;32m    770\u001b[0m                     \u001b[0;34m\"Expected 2D array, got 1D array instead:\\narray={}.\\n\"\u001b[0m\u001b[0;34m\u001b[0m\u001b[0;34m\u001b[0m\u001b[0m\n\u001b[1;32m    771\u001b[0m                     \u001b[0;34m\"Reshape your data either using array.reshape(-1, 1) if \"\u001b[0m\u001b[0;34m\u001b[0m\u001b[0;34m\u001b[0m\u001b[0m\n",
      "\u001b[0;31mValueError\u001b[0m: Expected 2D array, got 1D array instead:\narray=[ 32.05  33.14  27.29  29.88  27.78  26.65  28.37  27.88  26.02  26.83\n  26.94  23.12  20.47  20.27  21.13  20.4   22.37  26.82  26.58  25.02\n  26.79  26.51  27.76  30.71  27.04  27.27  31.97  32.84  36.1   29.48\n  26.05  30.72  30.41  32.23  29.57  29.43  28.81  29.89  33.71  34.02\n  36.85  34.47  38.26  42.33  38.56  43.83  43.89  50.16  50.1   45.56\n  42.16  43.96  47.1   51.67  57.26  50.94  54.4   59.11  61.51  69.5\n  65.36  59.85  58.46  63.11  66.61  62.01  66.07  73.75  70.11  75.2\n  74.93  69.24  60.96  58.64  63.43  60.77  57.35  61.97  66.03  64.43\n  65.09  71.41  76.49  75.07  80.31  93.53  89.29  99.64  89.03 102.42\n 100.92 112.6  127.75 141.06 125.03 109.63  98.23  63.93  49.34  46.17\n  41.35  40.07  48.46  52.18  68.59  69.32  71.59  68.11  70.67  78.08\n  78.39  81.52  74.41  78.71  84.53  86.19  72.7   72.95  81.25  73.97\n  81.57  82.94  86.75  91.59  89.54  99.63 107.55 113.03 100.3   94.81\n  94.98  88.93  77.34  92.19 100.2  102.96  97.63 108.76 105.25 106.17\n  83.17  83.72  88.99  95.34  92.44  87.05  88.69  93.14  97.46  90.71\n  97.1   90.74  93.41  97.94 107.93 108.67 102.09  94.56  93.61  95.14\n  96.44 105.34  99.69  99.69 103.07 106.06  97.86  92.92  90.74  78.77\n  68.98  52.72  49.25  49.59  50.12  59.1   60.24  56.94  45.25  45.38\n  44.75  46.12  40.58  36.81  31.62  34.39  35.36  44.75  49.07  49.02\n  40.05  43.17  48.8   46.66].\nReshape your data either using array.reshape(-1, 1) if your data has a single feature or array.reshape(1, -1) if it contains a single sample."
     ]
    }
   ],
   "source": [
    "from sklearn.preprocessing import StandardScaler\n",
    "\n",
    "# Create a StandardScater model and fit it to the training data\n",
    "\n",
    "X_scaler = StandardScaler().fit(X_train)\n",
    "y_scaler = StandardScaler().fit(y_train)"
   ]
  },
  {
   "cell_type": "code",
   "execution_count": null,
   "metadata": {},
   "outputs": [],
   "source": [
    "# Transform the training and testing data using the X_scaler and y_scaler models\n",
    "\n",
    "X_train_scaled = X_scaler.transform(X_train)\n",
    "X_test_scaled = X_scaler.transform(X_test)\n",
    "y_train_scaled = y_scaler.transform(y_train)\n",
    "y_test_scaled = y_scaler.transform(y_test)"
   ]
  },
  {
   "cell_type": "code",
   "execution_count": null,
   "metadata": {},
   "outputs": [],
   "source": [
    "# Create a LinearRegression model and fit it to the scaled training data\n",
    "\n",
    "from sklearn.linear_model import LinearRegression\n",
    "model = LinearRegression()\n",
    "model.fit(X_train_scaled, y_train_scaled)"
   ]
  },
  {
   "cell_type": "code",
   "execution_count": 84,
   "metadata": {},
   "outputs": [
    {
     "data": {
      "image/png": "[encoded data removed]",
      "text/plain": [
       "<Figure size 432x288 with 1 Axes>"
      ]
     },
     "metadata": {
      "needs_background": "light"
     },
     "output_type": "display_data"
    }
   ],
   "source": [
    "# Make predictions using a fitted model\n",
    "# Plot the difference between the model predicted values and actual y values, versus the model predicted values\n",
    "\n",
    "predictions = model.predict(X_test_scaled)\n",
    "model.fit(X_train_scaled, y_train_scaled)\n",
    "plt.scatter(model.predict(X_train_scaled), y_train_scaled - model.predict(X_train_scaled), c=\"blue\", label=\"Training Data\")\n",
    "plt.scatter(model.predict(X_test_scaled), y_test_scaled - model.predict(X_test_scaled), c=\"orange\", label=\"Testing Data\")\n",
    "plt.legend()\n",
    "plt.hlines(y=0, xmin=y_test_scaled.min(), xmax=y_test_scaled.max())\n",
    "plt.title(\"Residual Plot\")\n",
    "plt.show()"
   ]
  },
  {
   "cell_type": "code",
   "execution_count": 8,
   "metadata": {},
   "outputs": [
    {
     "name": "stdout",
     "output_type": "stream",
     "text": [
      "Shape:  (252,) (252,)\n"
     ]
    }
   ],
   "source": [
    "X = data[\"Date\"]\n",
    "y = data[\"Price\"]\n",
    "\n",
    "#X = data[\"Date\"].values.reshape(-1, 1)\n",
    "#y = data[\"Price\"].values.reshape(-1, 1)\n",
    "print(\"Shape: \", X.shape, y.shape)"
   ]
  },
  {
   "cell_type": "code",
   "execution_count": 13,
   "metadata": {},
   "outputs": [
    {
     "data": {
      "text/plain": [
       "([<matplotlib.axis.XTick at 0x7fb3baf69100>,\n",
       "  <matplotlib.axis.XTick at 0x7fb3baf690d0>,\n",
       "  <matplotlib.axis.XTick at 0x7fb3baf8b5e0>,\n",
       "  <matplotlib.axis.XTick at 0x7fb3baf8bd60>,\n",
       "  <matplotlib.axis.XTick at 0x7fb38830c2b0>,\n",
       "  <matplotlib.axis.XTick at 0x7fb38830c7c0>,\n",
       "  <matplotlib.axis.XTick at 0x7fb38830ccd0>,\n",
       "  <matplotlib.axis.XTick at 0x7fb388313220>,\n",
       "  <matplotlib.axis.XTick at 0x7fb388313730>,\n",
       "  <matplotlib.axis.XTick at 0x7fb388313c40>,\n",
       "  <matplotlib.axis.XTick at 0x7fb388313790>,\n",
       "  <matplotlib.axis.XTick at 0x7fb38830c820>,\n",
       "  <matplotlib.axis.XTick at 0x7fb3baf8b700>,\n",
       "  <matplotlib.axis.XTick at 0x7fb38831b460>,\n",
       "  <matplotlib.axis.XTick at 0x7fb38831b970>,\n",
       "  <matplotlib.axis.XTick at 0x7fb38831be80>,\n",
       "  <matplotlib.axis.XTick at 0x7fb3883223d0>,\n",
       "  <matplotlib.axis.XTick at 0x7fb3883228e0>,\n",
       "  <matplotlib.axis.XTick at 0x7fb388322df0>,\n",
       "  <matplotlib.axis.XTick at 0x7fb388322610>,\n",
       "  <matplotlib.axis.XTick at 0x7fb38831b6a0>,\n",
       "  <matplotlib.axis.XTick at 0x7fb3883132e0>,\n",
       "  <matplotlib.axis.XTick at 0x7fb3883284f0>,\n",
       "  <matplotlib.axis.XTick at 0x7fb388328a00>,\n",
       "  <matplotlib.axis.XTick at 0x7fb388328f10>,\n",
       "  <matplotlib.axis.XTick at 0x7fb38832f460>,\n",
       "  <matplotlib.axis.XTick at 0x7fb38832f970>,\n",
       "  <matplotlib.axis.XTick at 0x7fb38832fe80>,\n",
       "  <matplotlib.axis.XTick at 0x7fb38832f6a0>,\n",
       "  <matplotlib.axis.XTick at 0x7fb388328730>,\n",
       "  <matplotlib.axis.XTick at 0x7fb388322040>,\n",
       "  <matplotlib.axis.XTick at 0x7fb388335580>,\n",
       "  <matplotlib.axis.XTick at 0x7fb388335a90>,\n",
       "  <matplotlib.axis.XTick at 0x7fb388335fa0>,\n",
       "  <matplotlib.axis.XTick at 0x7fb38833b4f0>,\n",
       "  <matplotlib.axis.XTick at 0x7fb38833ba00>,\n",
       "  <matplotlib.axis.XTick at 0x7fb38833bf10>,\n",
       "  <matplotlib.axis.XTick at 0x7fb38833b730>,\n",
       "  <matplotlib.axis.XTick at 0x7fb3883357c0>,\n",
       "  <matplotlib.axis.XTick at 0x7fb38832f0d0>,\n",
       "  <matplotlib.axis.XTick at 0x7fb388343610>,\n",
       "  <matplotlib.axis.XTick at 0x7fb388343b20>,\n",
       "  <matplotlib.axis.XTick at 0x7fb38834c070>,\n",
       "  <matplotlib.axis.XTick at 0x7fb38834c580>,\n",
       "  <matplotlib.axis.XTick at 0x7fb38834ca90>,\n",
       "  <matplotlib.axis.XTick at 0x7fb38834cfa0>,\n",
       "  <matplotlib.axis.XTick at 0x7fb38834c7c0>,\n",
       "  <matplotlib.axis.XTick at 0x7fb388343850>,\n",
       "  <matplotlib.axis.XTick at 0x7fb38833b160>,\n",
       "  <matplotlib.axis.XTick at 0x7fb3883506a0>,\n",
       "  <matplotlib.axis.XTick at 0x7fb388350bb0>,\n",
       "  <matplotlib.axis.XTick at 0x7fb388358100>,\n",
       "  <matplotlib.axis.XTick at 0x7fb388358610>,\n",
       "  <matplotlib.axis.XTick at 0x7fb388358b20>,\n",
       "  <matplotlib.axis.XTick at 0x7fb38835f070>,\n",
       "  <matplotlib.axis.XTick at 0x7fb388358850>,\n",
       "  <matplotlib.axis.XTick at 0x7fb3883508e0>,\n",
       "  <matplotlib.axis.XTick at 0x7fb38834c1f0>,\n",
       "  <matplotlib.axis.XTick at 0x7fb38835f730>,\n",
       "  <matplotlib.axis.XTick at 0x7fb38835fc40>,\n",
       "  <matplotlib.axis.XTick at 0x7fb388365190>,\n",
       "  <matplotlib.axis.XTick at 0x7fb3883656a0>,\n",
       "  <matplotlib.axis.XTick at 0x7fb388365bb0>,\n",
       "  <matplotlib.axis.XTick at 0x7fb38836b100>,\n",
       "  <matplotlib.axis.XTick at 0x7fb3883658e0>,\n",
       "  <matplotlib.axis.XTick at 0x7fb388358760>,\n",
       "  <matplotlib.axis.XTick at 0x7fb38835f2b0>,\n",
       "  <matplotlib.axis.XTick at 0x7fb388343070>,\n",
       "  <matplotlib.axis.XTick at 0x7fb388313e80>,\n",
       "  <matplotlib.axis.XTick at 0x7fb38836b7c0>,\n",
       "  <matplotlib.axis.XTick at 0x7fb38836bcd0>,\n",
       "  <matplotlib.axis.XTick at 0x7fb388375220>,\n",
       "  <matplotlib.axis.XTick at 0x7fb388375730>,\n",
       "  <matplotlib.axis.XTick at 0x7fb388375c40>,\n",
       "  <matplotlib.axis.XTick at 0x7fb388313dc0>,\n",
       "  <matplotlib.axis.XTick at 0x7fb38835fe50>,\n",
       "  <matplotlib.axis.XTick at 0x7fb388375460>,\n",
       "  <matplotlib.axis.XTick at 0x7fb38837c190>,\n",
       "  <matplotlib.axis.XTick at 0x7fb38837c6a0>,\n",
       "  <matplotlib.axis.XTick at 0x7fb38837cbb0>,\n",
       "  <matplotlib.axis.XTick at 0x7fb388381100>,\n",
       "  <matplotlib.axis.XTick at 0x7fb388381610>,\n",
       "  <matplotlib.axis.XTick at 0x7fb388381b20>,\n",
       "  <matplotlib.axis.XTick at 0x7fb38837c370>,\n",
       "  <matplotlib.axis.XTick at 0x7fb38833b580>,\n",
       "  <matplotlib.axis.XTick at 0x7fb388381670>,\n",
       "  <matplotlib.axis.XTick at 0x7fb3a8821100>,\n",
       "  <matplotlib.axis.XTick at 0x7fb3a8821610>,\n",
       "  <matplotlib.axis.XTick at 0x7fb3a8821b20>,\n",
       "  <matplotlib.axis.XTick at 0x7fb3a8828070>,\n",
       "  <matplotlib.axis.XTick at 0x7fb3a8828580>,\n",
       "  <matplotlib.axis.XTick at 0x7fb3a8828a90>,\n",
       "  <matplotlib.axis.XTick at 0x7fb3a88216a0>,\n",
       "  <matplotlib.axis.XTick at 0x7fb388350310>,\n",
       "  <matplotlib.axis.XTick at 0x7fb3a8828700>,\n",
       "  <matplotlib.axis.XTick at 0x7fb3a8830190>,\n",
       "  <matplotlib.axis.XTick at 0x7fb3a88306a0>,\n",
       "  <matplotlib.axis.XTick at 0x7fb3a8830bb0>,\n",
       "  <matplotlib.axis.XTick at 0x7fb3a882f100>,\n",
       "  <matplotlib.axis.XTick at 0x7fb3a882f610>,\n",
       "  <matplotlib.axis.XTick at 0x7fb3a882fb20>,\n",
       "  <matplotlib.axis.XTick at 0x7fb3a88308e0>,\n",
       "  <matplotlib.axis.XTick at 0x7fb38837c2e0>,\n",
       "  <matplotlib.axis.XTick at 0x7fb3a882f760>,\n",
       "  <matplotlib.axis.XTick at 0x7fb3a883e220>,\n",
       "  <matplotlib.axis.XTick at 0x7fb3a883e730>,\n",
       "  <matplotlib.axis.XTick at 0x7fb3a883ec40>,\n",
       "  <matplotlib.axis.XTick at 0x7fb3a8844190>,\n",
       "  <matplotlib.axis.XTick at 0x7fb3a88446a0>,\n",
       "  <matplotlib.axis.XTick at 0x7fb3a8844bb0>,\n",
       "  <matplotlib.axis.XTick at 0x7fb3a88447f0>,\n",
       "  <matplotlib.axis.XTick at 0x7fb3a883e880>,\n",
       "  <matplotlib.axis.XTick at 0x7fb3a8821280>,\n",
       "  <matplotlib.axis.XTick at 0x7fb3a884b2b0>,\n",
       "  <matplotlib.axis.XTick at 0x7fb3a884b7c0>,\n",
       "  <matplotlib.axis.XTick at 0x7fb3a884bcd0>,\n",
       "  <matplotlib.axis.XTick at 0x7fb3a8851220>,\n",
       "  <matplotlib.axis.XTick at 0x7fb3a8851730>,\n",
       "  <matplotlib.axis.XTick at 0x7fb3a8851c40>,\n",
       "  <matplotlib.axis.XTick at 0x7fb3a8851790>,\n",
       "  <matplotlib.axis.XTick at 0x7fb3a884b820>,\n",
       "  <matplotlib.axis.XTick at 0x7fb3a883e7c0>,\n",
       "  <matplotlib.axis.XTick at 0x7fb3a8859340>,\n",
       "  <matplotlib.axis.XTick at 0x7fb3a8859850>,\n",
       "  <matplotlib.axis.XTick at 0x7fb3a8859d60>,\n",
       "  <matplotlib.axis.XTick at 0x7fb3883882b0>,\n",
       "  <matplotlib.axis.XTick at 0x7fb3883887c0>,\n",
       "  <matplotlib.axis.XTick at 0x7fb388388cd0>,\n",
       "  <matplotlib.axis.XTick at 0x7fb3883884c0>,\n",
       "  <matplotlib.axis.XTick at 0x7fb3a8859550>,\n",
       "  <matplotlib.axis.XTick at 0x7fb3a884bee0>,\n",
       "  <matplotlib.axis.XTick at 0x7fb38838e3d0>,\n",
       "  <matplotlib.axis.XTick at 0x7fb38838e8e0>,\n",
       "  <matplotlib.axis.XTick at 0x7fb38838edf0>,\n",
       "  <matplotlib.axis.XTick at 0x7fb388394340>,\n",
       "  <matplotlib.axis.XTick at 0x7fb388394850>,\n",
       "  <matplotlib.axis.XTick at 0x7fb388394d60>,\n",
       "  <matplotlib.axis.XTick at 0x7fb388394580>,\n",
       "  <matplotlib.axis.XTick at 0x7fb38838e610>,\n",
       "  <matplotlib.axis.XTick at 0x7fb3a8859eb0>,\n",
       "  <matplotlib.axis.XTick at 0x7fb38839b460>,\n",
       "  <matplotlib.axis.XTick at 0x7fb38839b970>,\n",
       "  <matplotlib.axis.XTick at 0x7fb38839be80>,\n",
       "  <matplotlib.axis.XTick at 0x7fb3883a33d0>,\n",
       "  <matplotlib.axis.XTick at 0x7fb3883a38e0>,\n",
       "  <matplotlib.axis.XTick at 0x7fb3883a3df0>,\n",
       "  <matplotlib.axis.XTick at 0x7fb3883a3610>,\n",
       "  <matplotlib.axis.XTick at 0x7fb38839b6a0>,\n",
       "  <matplotlib.axis.XTick at 0x7fb38838ef70>,\n",
       "  <matplotlib.axis.XTick at 0x7fb3883a84f0>,\n",
       "  <matplotlib.axis.XTick at 0x7fb3883a8a00>,\n",
       "  <matplotlib.axis.XTick at 0x7fb3883a8f10>,\n",
       "  <matplotlib.axis.XTick at 0x7fb3883b0460>,\n",
       "  <matplotlib.axis.XTick at 0x7fb3883b0970>,\n",
       "  <matplotlib.axis.XTick at 0x7fb3883b0e80>,\n",
       "  <matplotlib.axis.XTick at 0x7fb3883b06a0>,\n",
       "  <matplotlib.axis.XTick at 0x7fb3883a8730>,\n",
       "  <matplotlib.axis.XTick at 0x7fb3883a3040>,\n",
       "  <matplotlib.axis.XTick at 0x7fb3883b6580>,\n",
       "  <matplotlib.axis.XTick at 0x7fb3883b6a90>,\n",
       "  <matplotlib.axis.XTick at 0x7fb3883b6fa0>,\n",
       "  <matplotlib.axis.XTick at 0x7fb3883bb4f0>,\n",
       "  <matplotlib.axis.XTick at 0x7fb3883bba00>,\n",
       "  <matplotlib.axis.XTick at 0x7fb3883bbf10>,\n",
       "  <matplotlib.axis.XTick at 0x7fb3883bb730>,\n",
       "  <matplotlib.axis.XTick at 0x7fb3883b67c0>,\n",
       "  <matplotlib.axis.XTick at 0x7fb3883b00d0>,\n",
       "  <matplotlib.axis.XTick at 0x7fb3883c4610>,\n",
       "  <matplotlib.axis.XTick at 0x7fb3883c4b20>,\n",
       "  <matplotlib.axis.XTick at 0x7fb39930d070>,\n",
       "  <matplotlib.axis.XTick at 0x7fb39930d580>,\n",
       "  <matplotlib.axis.XTick at 0x7fb39930da90>,\n",
       "  <matplotlib.axis.XTick at 0x7fb39930dfa0>,\n",
       "  <matplotlib.axis.XTick at 0x7fb39930d7c0>,\n",
       "  <matplotlib.axis.XTick at 0x7fb3883c4850>,\n",
       "  <matplotlib.axis.XTick at 0x7fb3883bbfa0>,\n",
       "  <matplotlib.axis.XTick at 0x7fb3883a3fd0>,\n",
       "  <matplotlib.axis.XTick at 0x7fb3a8851e80>,\n",
       "  <matplotlib.axis.XTick at 0x7fb3a8828cd0>,\n",
       "  <matplotlib.axis.XTick at 0x7fb399313460>,\n",
       "  <matplotlib.axis.XTick at 0x7fb399313970>,\n",
       "  <matplotlib.axis.XTick at 0x7fb399313e80>,\n",
       "  <matplotlib.axis.XTick at 0x7fb39931c3d0>,\n",
       "  <matplotlib.axis.XTick at 0x7fb399313520>,\n",
       "  <matplotlib.axis.XTick at 0x7fb3883a3e80>,\n",
       "  <matplotlib.axis.XTick at 0x7fb39930d610>,\n",
       "  <matplotlib.axis.XTick at 0x7fb39931c8e0>,\n",
       "  <matplotlib.axis.XTick at 0x7fb39931cdf0>,\n",
       "  <matplotlib.axis.XTick at 0x7fb399323340>,\n",
       "  <matplotlib.axis.XTick at 0x7fb399323850>,\n",
       "  <matplotlib.axis.XTick at 0x7fb399323d60>,\n",
       "  <matplotlib.axis.XTick at 0x7fb39932a2b0>,\n",
       "  <matplotlib.axis.XTick at 0x7fb3993238b0>,\n",
       "  <matplotlib.axis.XTick at 0x7fb39931c940>,\n",
       "  <matplotlib.axis.XTick at 0x7fb388381c40>,\n",
       "  <matplotlib.axis.XTick at 0x7fb39932a8e0>,\n",
       "  <matplotlib.axis.XTick at 0x7fb39932adf0>,\n",
       "  <matplotlib.axis.XTick at 0x7fb399332340>,\n",
       "  <matplotlib.axis.XTick at 0x7fb399332850>,\n",
       "  <matplotlib.axis.XTick at 0x7fb399332d60>,\n",
       "  <matplotlib.axis.XTick at 0x7fb3993372b0>,\n",
       "  <matplotlib.axis.XTick at 0x7fb399332a90>,\n",
       "  <matplotlib.axis.XTick at 0x7fb39932ab20>,\n",
       "  <matplotlib.axis.XTick at 0x7fb399323070>,\n",
       "  <matplotlib.axis.XTick at 0x7fb399337970>,\n",
       "  <matplotlib.axis.XTick at 0x7fb399337e80>,\n",
       "  <matplotlib.axis.XTick at 0x7fb39933f3d0>,\n",
       "  <matplotlib.axis.XTick at 0x7fb39933f8e0>,\n",
       "  <matplotlib.axis.XTick at 0x7fb39933fdf0>,\n",
       "  <matplotlib.axis.XTick at 0x7fb399346340>,\n",
       "  <matplotlib.axis.XTick at 0x7fb39933fa30>,\n",
       "  <matplotlib.axis.XTick at 0x7fb399337ac0>,\n",
       "  <matplotlib.axis.XTick at 0x7fb399332520>,\n",
       "  <matplotlib.axis.XTick at 0x7fb399346a00>,\n",
       "  <matplotlib.axis.XTick at 0x7fb399346f10>,\n",
       "  <matplotlib.axis.XTick at 0x7fb39934c460>,\n",
       "  <matplotlib.axis.XTick at 0x7fb39934c970>,\n",
       "  <matplotlib.axis.XTick at 0x7fb39934ce80>,\n",
       "  <matplotlib.axis.XTick at 0x7fb3993543d0>,\n",
       "  <matplotlib.axis.XTick at 0x7fb39934ca00>,\n",
       "  <matplotlib.axis.XTick at 0x7fb399346a90>,\n",
       "  <matplotlib.axis.XTick at 0x7fb39933f940>,\n",
       "  <matplotlib.axis.XTick at 0x7fb399354a90>,\n",
       "  <matplotlib.axis.XTick at 0x7fb399354fa0>,\n",
       "  <matplotlib.axis.XTick at 0x7fb3993584f0>,\n",
       "  <matplotlib.axis.XTick at 0x7fb399358a00>,\n",
       "  <matplotlib.axis.XTick at 0x7fb399358f10>,\n",
       "  <matplotlib.axis.XTick at 0x7fb399362460>,\n",
       "  <matplotlib.axis.XTick at 0x7fb399358ac0>,\n",
       "  <matplotlib.axis.XTick at 0x7fb399354af0>,\n",
       "  <matplotlib.axis.XTick at 0x7fb39934c670>,\n",
       "  <matplotlib.axis.XTick at 0x7fb399362b20>,\n",
       "  <matplotlib.axis.XTick at 0x7fb39936a070>,\n",
       "  <matplotlib.axis.XTick at 0x7fb39936a580>,\n",
       "  <matplotlib.axis.XTick at 0x7fb39936aa90>,\n",
       "  <matplotlib.axis.XTick at 0x7fb39936afa0>,\n",
       "  <matplotlib.axis.XTick at 0x7fb39936e4f0>,\n",
       "  <matplotlib.axis.XTick at 0x7fb39936a7c0>,\n",
       "  <matplotlib.axis.XTick at 0x7fb3993620a0>,\n",
       "  <matplotlib.axis.XTick at 0x7fb39936e910>,\n",
       "  <matplotlib.axis.XTick at 0x7fb39936ebb0>,\n",
       "  <matplotlib.axis.XTick at 0x7fb399377100>,\n",
       "  <matplotlib.axis.XTick at 0x7fb399377610>,\n",
       "  <matplotlib.axis.XTick at 0x7fb399377b20>,\n",
       "  <matplotlib.axis.XTick at 0x7fb399375070>,\n",
       "  <matplotlib.axis.XTick at 0x7fb399375580>,\n",
       "  <matplotlib.axis.XTick at 0x7fb399377850>,\n",
       "  <matplotlib.axis.XTick at 0x7fb39936e070>,\n",
       "  <matplotlib.axis.XTick at 0x7fb3993759a0>,\n",
       "  <matplotlib.axis.XTick at 0x7fb399375c40>,\n",
       "  <matplotlib.axis.XTick at 0x7fb399385190>,\n",
       "  <matplotlib.axis.XTick at 0x7fb3993856a0>],\n",
       " [Text(0, 0, ''),\n",
       "  Text(0, 0, ''),\n",
       "  Text(0, 0, ''),\n",
       "  Text(0, 0, ''),\n",
       "  Text(0, 0, ''),\n",
       "  Text(0, 0, ''),\n",
       "  Text(0, 0, ''),\n",
       "  Text(0, 0, ''),\n",
       "  Text(0, 0, ''),\n",
       "  Text(0, 0, ''),\n",
       "  Text(0, 0, ''),\n",
       "  Text(0, 0, ''),\n",
       "  Text(0, 0, ''),\n",
       "  Text(0, 0, ''),\n",
       "  Text(0, 0, ''),\n",
       "  Text(0, 0, ''),\n",
       "  Text(0, 0, ''),\n",
       "  Text(0, 0, ''),\n",
       "  Text(0, 0, ''),\n",
       "  Text(0, 0, ''),\n",
       "  Text(0, 0, ''),\n",
       "  Text(0, 0, ''),\n",
       "  Text(0, 0, ''),\n",
       "  Text(0, 0, ''),\n",
       "  Text(0, 0, ''),\n",
       "  Text(0, 0, ''),\n",
       "  Text(0, 0, ''),\n",
       "  Text(0, 0, ''),\n",
       "  Text(0, 0, ''),\n",
       "  Text(0, 0, ''),\n",
       "  Text(0, 0, ''),\n",
       "  Text(0, 0, ''),\n",
       "  Text(0, 0, ''),\n",
       "  Text(0, 0, ''),\n",
       "  Text(0, 0, ''),\n",
       "  Text(0, 0, ''),\n",
       "  Text(0, 0, ''),\n",
       "  Text(0, 0, ''),\n",
       "  Text(0, 0, ''),\n",
       "  Text(0, 0, ''),\n",
       "  Text(0, 0, ''),\n",
       "  Text(0, 0, ''),\n",
       "  Text(0, 0, ''),\n",
       "  Text(0, 0, ''),\n",
       "  Text(0, 0, ''),\n",
       "  Text(0, 0, ''),\n",
       "  Text(0, 0, ''),\n",
       "  Text(0, 0, ''),\n",
       "  Text(0, 0, ''),\n",
       "  Text(0, 0, ''),\n",
       "  Text(0, 0, ''),\n",
       "  Text(0, 0, ''),\n",
       "  Text(0, 0, ''),\n",
       "  Text(0, 0, ''),\n",
       "  Text(0, 0, ''),\n",
       "  Text(0, 0, ''),\n",
       "  Text(0, 0, ''),\n",
       "  Text(0, 0, ''),\n",
       "  Text(0, 0, ''),\n",
       "  Text(0, 0, ''),\n",
       "  Text(0, 0, ''),\n",
       "  Text(0, 0, ''),\n",
       "  Text(0, 0, ''),\n",
       "  Text(0, 0, ''),\n",
       "  Text(0, 0, ''),\n",
       "  Text(0, 0, ''),\n",
       "  Text(0, 0, ''),\n",
       "  Text(0, 0, ''),\n",
       "  Text(0, 0, ''),\n",
       "  Text(0, 0, ''),\n",
       "  Text(0, 0, ''),\n",
       "  Text(0, 0, ''),\n",
       "  Text(0, 0, ''),\n",
       "  Text(0, 0, ''),\n",
       "  Text(0, 0, ''),\n",
       "  Text(0, 0, ''),\n",
       "  Text(0, 0, ''),\n",
       "  Text(0, 0, ''),\n",
       "  Text(0, 0, ''),\n",
       "  Text(0, 0, ''),\n",
       "  Text(0, 0, ''),\n",
       "  Text(0, 0, ''),\n",
       "  Text(0, 0, ''),\n",
       "  Text(0, 0, ''),\n",
       "  Text(0, 0, ''),\n",
       "  Text(0, 0, ''),\n",
       "  Text(0, 0, ''),\n",
       "  Text(0, 0, ''),\n",
       "  Text(0, 0, ''),\n",
       "  Text(0, 0, ''),\n",
       "  Text(0, 0, ''),\n",
       "  Text(0, 0, ''),\n",
       "  Text(0, 0, ''),\n",
       "  Text(0, 0, ''),\n",
       "  Text(0, 0, ''),\n",
       "  Text(0, 0, ''),\n",
       "  Text(0, 0, ''),\n",
       "  Text(0, 0, ''),\n",
       "  Text(0, 0, ''),\n",
       "  Text(0, 0, ''),\n",
       "  Text(0, 0, ''),\n",
       "  Text(0, 0, ''),\n",
       "  Text(0, 0, ''),\n",
       "  Text(0, 0, ''),\n",
       "  Text(0, 0, ''),\n",
       "  Text(0, 0, ''),\n",
       "  Text(0, 0, ''),\n",
       "  Text(0, 0, ''),\n",
       "  Text(0, 0, ''),\n",
       "  Text(0, 0, ''),\n",
       "  Text(0, 0, ''),\n",
       "  Text(0, 0, ''),\n",
       "  Text(0, 0, ''),\n",
       "  Text(0, 0, ''),\n",
       "  Text(0, 0, ''),\n",
       "  Text(0, 0, ''),\n",
       "  Text(0, 0, ''),\n",
       "  Text(0, 0, ''),\n",
       "  Text(0, 0, ''),\n",
       "  Text(0, 0, ''),\n",
       "  Text(0, 0, ''),\n",
       "  Text(0, 0, ''),\n",
       "  Text(0, 0, ''),\n",
       "  Text(0, 0, ''),\n",
       "  Text(0, 0, ''),\n",
       "  Text(0, 0, ''),\n",
       "  Text(0, 0, ''),\n",
       "  Text(0, 0, ''),\n",
       "  Text(0, 0, ''),\n",
       "  Text(0, 0, ''),\n",
       "  Text(0, 0, ''),\n",
       "  Text(0, 0, ''),\n",
       "  Text(0, 0, ''),\n",
       "  Text(0, 0, ''),\n",
       "  Text(0, 0, ''),\n",
       "  Text(0, 0, ''),\n",
       "  Text(0, 0, ''),\n",
       "  Text(0, 0, ''),\n",
       "  Text(0, 0, ''),\n",
       "  Text(0, 0, ''),\n",
       "  Text(0, 0, ''),\n",
       "  Text(0, 0, ''),\n",
       "  Text(0, 0, ''),\n",
       "  Text(0, 0, ''),\n",
       "  Text(0, 0, ''),\n",
       "  Text(0, 0, ''),\n",
       "  Text(0, 0, ''),\n",
       "  Text(0, 0, ''),\n",
       "  Text(0, 0, ''),\n",
       "  Text(0, 0, ''),\n",
       "  Text(0, 0, ''),\n",
       "  Text(0, 0, ''),\n",
       "  Text(0, 0, ''),\n",
       "  Text(0, 0, ''),\n",
       "  Text(0, 0, ''),\n",
       "  Text(0, 0, ''),\n",
       "  Text(0, 0, ''),\n",
       "  Text(0, 0, ''),\n",
       "  Text(0, 0, ''),\n",
       "  Text(0, 0, ''),\n",
       "  Text(0, 0, ''),\n",
       "  Text(0, 0, ''),\n",
       "  Text(0, 0, ''),\n",
       "  Text(0, 0, ''),\n",
       "  Text(0, 0, ''),\n",
       "  Text(0, 0, ''),\n",
       "  Text(0, 0, ''),\n",
       "  Text(0, 0, ''),\n",
       "  Text(0, 0, ''),\n",
       "  Text(0, 0, ''),\n",
       "  Text(0, 0, ''),\n",
       "  Text(0, 0, ''),\n",
       "  Text(0, 0, ''),\n",
       "  Text(0, 0, ''),\n",
       "  Text(0, 0, ''),\n",
       "  Text(0, 0, ''),\n",
       "  Text(0, 0, ''),\n",
       "  Text(0, 0, ''),\n",
       "  Text(0, 0, ''),\n",
       "  Text(0, 0, ''),\n",
       "  Text(0, 0, ''),\n",
       "  Text(0, 0, ''),\n",
       "  Text(0, 0, ''),\n",
       "  Text(0, 0, ''),\n",
       "  Text(0, 0, ''),\n",
       "  Text(0, 0, ''),\n",
       "  Text(0, 0, ''),\n",
       "  Text(0, 0, ''),\n",
       "  Text(0, 0, ''),\n",
       "  Text(0, 0, ''),\n",
       "  Text(0, 0, ''),\n",
       "  Text(0, 0, ''),\n",
       "  Text(0, 0, ''),\n",
       "  Text(0, 0, ''),\n",
       "  Text(0, 0, ''),\n",
       "  Text(0, 0, ''),\n",
       "  Text(0, 0, ''),\n",
       "  Text(0, 0, ''),\n",
       "  Text(0, 0, ''),\n",
       "  Text(0, 0, ''),\n",
       "  Text(0, 0, ''),\n",
       "  Text(0, 0, ''),\n",
       "  Text(0, 0, ''),\n",
       "  Text(0, 0, ''),\n",
       "  Text(0, 0, ''),\n",
       "  Text(0, 0, ''),\n",
       "  Text(0, 0, ''),\n",
       "  Text(0, 0, ''),\n",
       "  Text(0, 0, ''),\n",
       "  Text(0, 0, ''),\n",
       "  Text(0, 0, ''),\n",
       "  Text(0, 0, ''),\n",
       "  Text(0, 0, ''),\n",
       "  Text(0, 0, ''),\n",
       "  Text(0, 0, ''),\n",
       "  Text(0, 0, ''),\n",
       "  Text(0, 0, ''),\n",
       "  Text(0, 0, ''),\n",
       "  Text(0, 0, ''),\n",
       "  Text(0, 0, ''),\n",
       "  Text(0, 0, ''),\n",
       "  Text(0, 0, ''),\n",
       "  Text(0, 0, ''),\n",
       "  Text(0, 0, ''),\n",
       "  Text(0, 0, ''),\n",
       "  Text(0, 0, ''),\n",
       "  Text(0, 0, ''),\n",
       "  Text(0, 0, ''),\n",
       "  Text(0, 0, ''),\n",
       "  Text(0, 0, ''),\n",
       "  Text(0, 0, ''),\n",
       "  Text(0, 0, ''),\n",
       "  Text(0, 0, ''),\n",
       "  Text(0, 0, ''),\n",
       "  Text(0, 0, ''),\n",
       "  Text(0, 0, ''),\n",
       "  Text(0, 0, ''),\n",
       "  Text(0, 0, ''),\n",
       "  Text(0, 0, ''),\n",
       "  Text(0, 0, ''),\n",
       "  Text(0, 0, ''),\n",
       "  Text(0, 0, ''),\n",
       "  Text(0, 0, ''),\n",
       "  Text(0, 0, ''),\n",
       "  Text(0, 0, ''),\n",
       "  Text(0, 0, ''),\n",
       "  Text(0, 0, ''),\n",
       "  Text(0, 0, ''),\n",
       "  Text(0, 0, ''),\n",
       "  Text(0, 0, ''),\n",
       "  Text(0, 0, ''),\n",
       "  Text(0, 0, '')])"
      ]
     },
     "execution_count": 13,
     "metadata": {},
     "output_type": "execute_result"
    },
    {
     "data": {
      "image/png": "[encoded data removed]",
      "text/plain": [
       "<Figure size 432x288 with 1 Axes>"
      ]
     },
     "metadata": {
      "needs_background": "light"
     },
     "output_type": "display_data"
    }
   ],
   "source": [
    "plt.scatter(X, y)\n",
    "plt.xlabel(\"Date\")\n",
    "plt.ylabel(\"Cushing, OK WTI Spot Price FOB (Dollars per Barrel)\")\n",
    "plt.xticks(X, rotation='vertical')"
   ]
  },
  {
   "cell_type": "code",
   "execution_count": 79,
   "metadata": {},
   "outputs": [
    {
     "name": "stdout",
     "output_type": "stream",
     "text": [
      "Shape:  (252, 1) (252, 1)\n"
     ]
    }
   ],
   "source": [
    "X = data[\"Date\"].values.reshape(-1, 1)\n",
    "y = data[\"Price\"].values.reshape(-1, 1)\n",
    "print(\"Shape: \", X.shape, y.shape)"
   ]
  },
  {
   "cell_type": "code",
   "execution_count": 80,
   "metadata": {},
   "outputs": [],
   "source": [
    "# Split the data into training and testing\n",
    "\n",
    "#from sklearn.model_selection import train_test_split\n",
    "\n",
    "#X_train, X_test, y_train, y_test = train_test_split(X, y, random_state=42)"
   ]
  },
  {
   "cell_type": "code",
   "execution_count": 85,
   "metadata": {},
   "outputs": [
    {
     "name": "stdout",
     "output_type": "stream",
     "text": [
      "MSE: 1.0586337453869477, R2: 0.11483271749783197\n"
     ]
    }
   ],
   "source": [
    "# Used X_test_scaled, y_test_scaled, and model.predict(X_test_scaled) to calculate MSE and R2\n",
    "\n",
    "MSE = mean_squared_error(y_test_scaled, predictions)\n",
    "r2 = model.score(X_test_scaled, y_test_scaled)\n",
    "\n",
    "print(f\"MSE: {MSE}, R2: {r2}\")"
   ]
  },
  {
   "cell_type": "code",
   "execution_count": 31,
   "metadata": {},
   "outputs": [
    {
     "data": {
      "image/png": "[encoded data removed]",
      "text/plain": [
       "<Figure size 648x288 with 1 Axes>"
      ]
     },
     "metadata": {
      "needs_background": "light"
     },
     "output_type": "display_data"
    }
   ],
   "source": [
    "fig, ax=plt.subplots(figsize=(9, 4))\n",
    "data_train['Cushing, OK WTI Spot Price FOB (Dollars per Barrel)'].plot(ax=ax, label='train')\n",
    "data_test['Cushing, OK WTI Spot Price FOB (Dollars per Barrel)'].plot(ax=ax, label='test')\n",
    "ax.legend();"
   ]
  },
  {
   "cell_type": "code",
   "execution_count": null,
   "metadata": {},
   "outputs": [],
   "source": []
  }
 ],
 "metadata": {
  "interpreter": {
   "hash": "31b20a3416a92dea3419cecf520268406016177d16661bd35391115788e14e52"
  },
  "kernelspec": {
   "display_name": "Python 3.8.8 ('base')",
   "language": "python",
   "name": "python3"
  },
  "language_info": {
   "codemirror_mode": {
    "name": "ipython",
    "version": 3
   },
   "file_extension": ".py",
   "mimetype": "text/x-python",
   "name": "python",
   "nbconvert_exporter": "python",
   "pygments_lexer": "ipython3",
   "version": "3.8.8"
  },
  "orig_nbformat": 4
 },
 "nbformat": 4,
 "nbformat_minor": 2
}
